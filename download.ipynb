{
 "cells": [
  {
   "cell_type": "markdown",
   "source": [
    "# Workflow"
   ],
   "metadata": {
    "collapsed": false
   },
   "id": "64f63892753f61b2"
  },
  {
   "cell_type": "code",
   "execution_count": null,
   "outputs": [],
   "source": [
    "from pathlib import Path\n",
    "\n",
    "from ipindia.date_processor import DateProcessor\n",
    "from ipindia.downloader_driver import DownloaderDriver"
   ],
   "metadata": {
    "collapsed": false
   },
   "id": "initial_id"
  },
  {
   "cell_type": "markdown",
   "source": [
    "# Download pdf files"
   ],
   "metadata": {
    "collapsed": false
   },
   "id": "b57f8bb0ef6429bb"
  },
  {
   "cell_type": "code",
   "execution_count": null,
   "outputs": [],
   "source": [
    "donwloads_directory = '/Users/alejandropalacios/programacion/freelancer/ipindia/files'\n",
    "downloader = DownloaderDriver(first_record=54, last_record=94, path_downloads_directory=donwloads_directory)\n",
    "downloader.visit_ipindia()\n",
    "downloader.download_records()"
   ],
   "metadata": {
    "collapsed": false
   },
   "id": "ed8a0debe1efae05"
  },
  {
   "cell_type": "markdown",
   "source": [
    "# Process a specific date"
   ],
   "metadata": {
    "collapsed": false
   },
   "id": "14eeff635280a735"
  },
  {
   "cell_type": "code",
   "execution_count": null,
   "outputs": [],
   "source": [
    "date_directory = Path('2013') / '2013-01-01'\n",
    "processor = DateProcessor(date_directory)\n",
    "processor.export_data()"
   ],
   "metadata": {
    "collapsed": false
   },
   "id": "4c10a9a8bd631fe4"
  },
  {
   "cell_type": "markdown",
   "source": [
    "# Process directory from a given year"
   ],
   "metadata": {
    "collapsed": false
   },
   "id": "84cb40df7689b44a"
  },
  {
   "cell_type": "code",
   "execution_count": null,
   "outputs": [],
   "source": [
    "year_path = Path('2013')\n",
    "date_directories = sorted(item for item in year_path.iterdir() if item.is_dir())\n",
    "for date_directory in date_directories[:]:\n",
    "    print(f'-----Processing {date_directory}-----')\n",
    "    processor = DateProcessor(date_directory)\n",
    "    processor.export_data()"
   ],
   "metadata": {
    "collapsed": false
   },
   "id": "4b5ab3a5de7c93cd"
  }
 ],
 "metadata": {
  "kernelspec": {
   "display_name": "Python 3",
   "language": "python",
   "name": "python3"
  },
  "language_info": {
   "codemirror_mode": {
    "name": "ipython",
    "version": 2
   },
   "file_extension": ".py",
   "mimetype": "text/x-python",
   "name": "python",
   "nbconvert_exporter": "python",
   "pygments_lexer": "ipython2",
   "version": "2.7.6"
  }
 },
 "nbformat": 4,
 "nbformat_minor": 5
}
